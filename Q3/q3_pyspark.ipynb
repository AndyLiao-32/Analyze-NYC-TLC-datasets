{
 "cells": [
  {
   "cell_type": "markdown",
   "metadata": {},
   "source": [
    "# HW3 - Q3 [35 pts]"
   ]
  },
  {
   "cell_type": "markdown",
   "metadata": {},
   "source": [
    "## Important Notices\n",
    "\n",
    "<div class=\"alert alert-block alert-danger\">\n",
    "    WARNING: Do <strong>NOT</strong> add any cells to this Jupyter Notebook, because that will crash the autograder.\n",
    "</div>\n",
    "\n",
    "<div class=\"alert alert-block alert-danger\">\n",
    "    WARNING: Do <strong>NOT</strong> implement any additional libraries into this workbook.\n",
    "</div>\n",
    "\n",
    "All instructions, code comments, etc. in this notebook **are part of the assignment instructions**. That is, if there is instructions about completing a task in this notebook, that task is not optional.  \n",
    "\n",
    "<div class=\"alert alert-block alert-info\">\n",
    "    You <strong>must</strong> implement the following functions in this notebook to receive credit.\n",
    "</div>\n",
    "\n",
    "`user()`\n",
    "\n",
    "`bucket()`\n",
    "\n",
    "`long_trips()`\n",
    "\n",
    "`manhattan_trips()`\n",
    "\n",
    "`weighted_profit()`\n",
    "\n",
    "`final_output()`\n",
    "\n",
    "Each method will be auto-graded using different sets of parameters or data, to ensure that values are not hard-coded.  You may assume we will only use your code to work with data from the NYC-TLC dataset during auto-grading.\n",
    "\n",
    "<div class=\"alert alert-block alert-danger\">\n",
    "    WARNING: Do <strong>NOT</strong> remove or modify the following utility functions:\n",
    "</div>\n",
    "\n",
    "`load_data()`\n",
    "\n",
    "`main()`"
   ]
  },
  {
   "cell_type": "markdown",
   "metadata": {},
   "source": [
    "<div class=\"alert alert-block alert-info\">\n",
    "    Do <strong>not</strong> change the below cell. Run it to initialize your PySpark instance.\n",
    "</div>"
   ]
  },
  {
   "cell_type": "code",
   "execution_count": 1,
   "metadata": {},
   "outputs": [
    {
     "data": {
      "application/vnd.jupyter.widget-view+json": {
       "model_id": "b7d1d72897fa4268bff35fff35e6829f",
       "version_major": 2,
       "version_minor": 0
      },
      "text/plain": [
       "VBox()"
      ]
     },
     "metadata": {},
     "output_type": "display_data"
    },
    {
     "name": "stdout",
     "output_type": "stream",
     "text": [
      "Starting Spark application\n"
     ]
    },
    {
     "data": {
      "text/html": [
       "<table>\n",
       "<tr><th>ID</th><th>YARN Application ID</th><th>Kind</th><th>State</th><th>Spark UI</th><th>Driver log</th><th>Current session?</th></tr><tr><td>1</td><td>application_1603401902088_0002</td><td>pyspark</td><td>idle</td><td><a target=\"_blank\" href=\"http://ip-172-31-34-229.ec2.internal:20888/proxy/application_1603401902088_0002/\">Link</a></td><td><a target=\"_blank\" href=\"http://ip-172-31-36-139.ec2.internal:8042/node/containerlogs/container_1603401902088_0002_01_000001/livy\">Link</a></td><td>✔</td></tr></table>"
      ],
      "text/plain": [
       "<IPython.core.display.HTML object>"
      ]
     },
     "metadata": {},
     "output_type": "display_data"
    },
    {
     "data": {
      "application/vnd.jupyter.widget-view+json": {
       "model_id": "",
       "version_major": 2,
       "version_minor": 0
      },
      "text/plain": [
       "FloatProgress(value=0.0, bar_style='info', description='Progress:', layout=Layout(height='25px', width='50%'),…"
      ]
     },
     "metadata": {},
     "output_type": "display_data"
    },
    {
     "name": "stdout",
     "output_type": "stream",
     "text": [
      "SparkSession available as 'spark'.\n"
     ]
    },
    {
     "data": {
      "application/vnd.jupyter.widget-view+json": {
       "model_id": "",
       "version_major": 2,
       "version_minor": 0
      },
      "text/plain": [
       "FloatProgress(value=0.0, bar_style='info', description='Progress:', layout=Layout(height='25px', width='50%'),…"
      ]
     },
     "metadata": {},
     "output_type": "display_data"
    },
    {
     "name": "stdout",
     "output_type": "stream",
     "text": [
      "<SparkContext master=yarn appName=livy-session-1>"
     ]
    }
   ],
   "source": [
    "sc"
   ]
  },
  {
   "cell_type": "markdown",
   "metadata": {},
   "source": [
    "<div class=\"alert alert-block alert-danger\">\n",
    "    WARNING: Do <strong>NOT</strong> remodify the below cell. It contains the function for loading data and all imports, and the function for running your code.\n",
    "</div>"
   ]
  },
  {
   "cell_type": "code",
   "execution_count": 12,
   "metadata": {},
   "outputs": [
    {
     "data": {
      "application/vnd.jupyter.widget-view+json": {
       "model_id": "70b6d4a929b04d76a09ef03573f6af83",
       "version_major": 2,
       "version_minor": 0
      },
      "text/plain": [
       "VBox()"
      ]
     },
     "metadata": {},
     "output_type": "display_data"
    },
    {
     "data": {
      "application/vnd.jupyter.widget-view+json": {
       "model_id": "",
       "version_major": 2,
       "version_minor": 0
      },
      "text/plain": [
       "FloatProgress(value=0.0, bar_style='info', description='Progress:', layout=Layout(height='25px', width='50%'),…"
      ]
     },
     "metadata": {},
     "output_type": "display_data"
    }
   ],
   "source": [
    "#### DO NOT CHANGE ANYTHING IN THIS CELL ####\n",
    "\n",
    "from pyspark.sql.functions import col\n",
    "\n",
    "def load_data(size='small'):\n",
    "    # Loads the data for this question. Do not change this function.\n",
    "    # This function should only be called with the parameter 'small' or 'large'\n",
    "    \n",
    "    if size != 'small' and size != 'large':\n",
    "        print(\"Invalid size parameter provided. Use only 'small' or 'large'.\")\n",
    "        return\n",
    "    \n",
    "    input_bucket = \"s3://fall2020-cse6242\"\n",
    "    \n",
    "    # Load Trip Data\n",
    "    trip_path = '/'+size+'/yellow_tripdata*'\n",
    "    trips = spark.read.csv(input_bucket + trip_path, header=True, inferSchema=True)\n",
    "    print(\"Trip Count: \",trips.count()) # Prints # of trips (# of records, as each record is one trip)\n",
    "    \n",
    "    # Load Lookup Data\n",
    "    lookup_path = '/'+size+'/taxi*'\n",
    "    lookup = spark.read.csv(input_bucket + lookup_path, header=True, inferSchema=True)\n",
    "    \n",
    "    return trips, lookup\n",
    "\n",
    "def main(size, bucket):\n",
    "    # Runs your functions implemented above.\n",
    "    \n",
    "    print(user())\n",
    "    trips, lookup = load_data(size=size)\n",
    "    trips = long_trips(trips)\n",
    "    mtrips = manhattan_trips(trips, lookup)\n",
    "    wp = weighted_profit(trips, mtrips)\n",
    "    final = final_output(wp,lookup)\n",
    "    \n",
    "    # Outputs the results for you to visually see\n",
    "    final.show()\n",
    "    \n",
    "    # Writes out as a CSV to your bucket.\n",
    "    final.write.csv(bucket)"
   ]
  },
  {
   "cell_type": "markdown",
   "metadata": {},
   "source": [
    "# Implement the below functions for this assignment:\n",
    "<div class=\"alert alert-block alert-danger\">\n",
    "    WARNING: Do <strong>NOT</strong> change any function inputs or outputs, and ensure that the dataframes your code returns align with the schema definitions commented in each function\n",
    "</div>"
   ]
  },
  {
   "cell_type": "markdown",
   "metadata": {},
   "source": [
    "## 3a. [1 pt] Update the `user()` function\n",
    "This function should return your GT username, eg: gburdell3"
   ]
  },
  {
   "cell_type": "code",
   "execution_count": 19,
   "metadata": {},
   "outputs": [
    {
     "data": {
      "application/vnd.jupyter.widget-view+json": {
       "model_id": "a6c682f13b5d48b4a830a709d4cdd7ea",
       "version_major": 2,
       "version_minor": 0
      },
      "text/plain": [
       "VBox()"
      ]
     },
     "metadata": {},
     "output_type": "display_data"
    },
    {
     "data": {
      "application/vnd.jupyter.widget-view+json": {
       "model_id": "",
       "version_major": 2,
       "version_minor": 0
      },
      "text/plain": [
       "FloatProgress(value=0.0, bar_style='info', description='Progress:', layout=Layout(height='25px', width='50%'),…"
      ]
     },
     "metadata": {},
     "output_type": "display_data"
    }
   ],
   "source": [
    "def user():\n",
    "    # Returns a string consisting of your GT username.\n",
    "    return 'tliao32'"
   ]
  },
  {
   "cell_type": "markdown",
   "metadata": {},
   "source": [
    "## 3b. [2 pts] Update the `long_trips()` function\n",
    "This function filters trips to keep only trips longer than 2 miles."
   ]
  },
  {
   "cell_type": "code",
   "execution_count": 20,
   "metadata": {},
   "outputs": [
    {
     "data": {
      "application/vnd.jupyter.widget-view+json": {
       "model_id": "e9e8e300db144bec90b2a6e6242b31eb",
       "version_major": 2,
       "version_minor": 0
      },
      "text/plain": [
       "VBox()"
      ]
     },
     "metadata": {},
     "output_type": "display_data"
    },
    {
     "data": {
      "application/vnd.jupyter.widget-view+json": {
       "model_id": "",
       "version_major": 2,
       "version_minor": 0
      },
      "text/plain": [
       "FloatProgress(value=0.0, bar_style='info', description='Progress:', layout=Layout(height='25px', width='50%'),…"
      ]
     },
     "metadata": {},
     "output_type": "display_data"
    }
   ],
   "source": [
    "def long_trips(trips):\n",
    "    # Returns a Dataframe with Schema the same as :trips:\n",
    "    trips = trips.where(col(\"trip_distance\") >= 2)\n",
    "    \n",
    "    return trips"
   ]
  },
  {
   "cell_type": "markdown",
   "metadata": {},
   "source": [
    "## 3c. [6 pts] Update the `manhattan_trips()` function\n",
    "\n",
    "This function determines the top 20 locations with a `DOLocationID` in manhattan by passenger_count (pcount).\n",
    "\n",
    "Example output formatting:\n",
    "\n",
    "```\n",
    "+--------------+--------+\n",
    "| DOLocationID | pcount |\n",
    "+--------------+--------+\n",
    "|             5|      15|\n",
    "|            16|      12| \n",
    "+--------------+--------+\n",
    "```"
   ]
  },
  {
   "cell_type": "code",
   "execution_count": 21,
   "metadata": {},
   "outputs": [
    {
     "data": {
      "application/vnd.jupyter.widget-view+json": {
       "model_id": "06d4514278bb4dc2a6548fda27480ac4",
       "version_major": 2,
       "version_minor": 0
      },
      "text/plain": [
       "VBox()"
      ]
     },
     "metadata": {},
     "output_type": "display_data"
    },
    {
     "data": {
      "application/vnd.jupyter.widget-view+json": {
       "model_id": "",
       "version_major": 2,
       "version_minor": 0
      },
      "text/plain": [
       "FloatProgress(value=0.0, bar_style='info', description='Progress:', layout=Layout(height='25px', width='50%'),…"
      ]
     },
     "metadata": {},
     "output_type": "display_data"
    }
   ],
   "source": [
    "def manhattan_trips(trips, lookup):\n",
    "    # Returns a Dataframe with Schema: DOLocationID, pcount\n",
    "    trips = trips.withColumnRenamed(\"DOLocationID\", \"LocationID\")\\\n",
    "                .withColumn(\"passenger_count\", col(\"passenger_count\").cast(\"int\"))\\\n",
    "                .groupBy(\"LocationID\")\\\n",
    "                .sum(\"passenger_count\")\n",
    "    \n",
    "    lookup = lookup.filter(col(\"Borough\") == \"Manhattan\")\n",
    "    \n",
    "    mtrips = trips.join(lookup, \"LocationID\")\\\n",
    "                .withColumnRenamed(\"LocationID\", \"DOLocationID\")\\\n",
    "                .withColumnRenamed(\"sum(passenger_count)\", \"pcount\")\\\n",
    "                .drop(\"Borough\")\\\n",
    "                .drop(\"Zone\")\\\n",
    "                .drop(\"service_zone\")\\\n",
    "                .orderBy(\"pcount\", ascending=False)\\\n",
    "                .limit(20)\n",
    "    \n",
    "    return mtrips"
   ]
  },
  {
   "cell_type": "markdown",
   "metadata": {},
   "source": [
    "## 3d. [6 pts] Update the `weighted_profit()` function\n",
    "This function should determine the average `total_amount`, the total count of trips, and the total count of trips ending in the top 20 destinations and return the `weighted_profit` as discussed in the homework document.\n",
    "\n",
    "Example output formatting:\n",
    "```\n",
    "+--------------+-------------------+\n",
    "| PULocationID |  weighted_profit  |\n",
    "+--------------+-------------------+\n",
    "|            18| 33.784444421924436| \n",
    "|            12| 21.124577637149223| \n",
    "+--------------+-------------------+\n",
    "```"
   ]
  },
  {
   "cell_type": "code",
   "execution_count": 22,
   "metadata": {},
   "outputs": [
    {
     "data": {
      "application/vnd.jupyter.widget-view+json": {
       "model_id": "53e837a71b1549f1b591695261e93fd7",
       "version_major": 2,
       "version_minor": 0
      },
      "text/plain": [
       "VBox()"
      ]
     },
     "metadata": {},
     "output_type": "display_data"
    },
    {
     "data": {
      "application/vnd.jupyter.widget-view+json": {
       "model_id": "",
       "version_major": 2,
       "version_minor": 0
      },
      "text/plain": [
       "FloatProgress(value=0.0, bar_style='info', description='Progress:', layout=Layout(height='25px', width='50%'),…"
      ]
     },
     "metadata": {},
     "output_type": "display_data"
    }
   ],
   "source": [
    "def weighted_profit(trips, mtrips): \n",
    "    # Returns a Dataframe with Schema: PULocationID, weighted_profit\n",
    "    trips_sum_total_amount = trips.withColumn(\"total_amount\", col(\"total_amount\").cast(\"float\"))\\\n",
    "                                    .groupBy(\"PULocationID\")\\\n",
    "                                    .sum(\"total_amount\")\\\n",
    "                                    .withColumnRenamed(\"sum(total_amount)\", \"total_amount\")\n",
    "    \n",
    "    trips_count = trips.groupBy(\"PULocationID\").count()\n",
    "    \n",
    "    trips_avg_amount = trips_sum_total_amount.join(trips_count, \"PULocationID\")\\\n",
    "                                    .withColumn(\"avg_total_amount\", col(\"total_amount\") / col(\"count\"))\\\n",
    "                                    .drop(\"total_amount\")\\\n",
    "                                    .drop(\"count\")\n",
    "    \n",
    "    trips_PU_count = trips.groupBy(\"PULocationID\").count()\n",
    "    \n",
    "    trips_popular_count = trips.join(mtrips, \"DOLocationID\")\\\n",
    "                                .groupBy(\"PULocationID\")\\\n",
    "                                .count()\\\n",
    "                                .withColumnRenamed(\"count\", \"pop_count\")\n",
    "    \n",
    "    trips_PU_pop = trips_PU_count.join(trips_popular_count, \"PULocationID\")\\\n",
    "                                .withColumn(\"avg_count\", col(\"pop_count\") / col(\"count\"))\\\n",
    "                                .drop(\"count\")\\\n",
    "                                .drop(\"pop_count\")\n",
    "    \n",
    "    trips_final_join = trips_PU_pop.join(trips_avg_amount, \"PULocationID\")\\\n",
    "                                    .withColumn(\"weighted_profit\", col(\"avg_count\")*col(\"avg_total_amount\"))\\\n",
    "                                    .drop(\"avg_total_amount\")\\\n",
    "                                    .drop(\"avg_count\")\\\n",
    "                                    .orderBy(\"weighted_profit\", ascending=False)\n",
    "    \n",
    "    return trips_final_join"
   ]
  },
  {
   "cell_type": "markdown",
   "metadata": {},
   "source": [
    "## 3e. [5 pts] Update the `final_output()` function\n",
    "This function will take the results of `weighted_profit`, links it to the `borough` and `zone` and returns the top 20 locations with the highest `weighted_profit`.\n",
    "\n",
    "Example output formatting:\n",
    "```\n",
    "+------------+---------+-------------------+\n",
    "|    Zone    | Borough |  weighted_profit  |\n",
    "+----------------------+-------------------+\n",
    "| JFK Airport|   Queens|  16.95897820117925|\n",
    "|     Jamaica|   Queens| 14.879835188762488|\n",
    "+------------+---------+-------------------+\n",
    "```"
   ]
  },
  {
   "cell_type": "code",
   "execution_count": 23,
   "metadata": {},
   "outputs": [
    {
     "data": {
      "application/vnd.jupyter.widget-view+json": {
       "model_id": "cd852f1660094eefa89c6bfb3a832a98",
       "version_major": 2,
       "version_minor": 0
      },
      "text/plain": [
       "VBox()"
      ]
     },
     "metadata": {},
     "output_type": "display_data"
    },
    {
     "data": {
      "application/vnd.jupyter.widget-view+json": {
       "model_id": "",
       "version_major": 2,
       "version_minor": 0
      },
      "text/plain": [
       "FloatProgress(value=0.0, bar_style='info', description='Progress:', layout=Layout(height='25px', width='50%'),…"
      ]
     },
     "metadata": {},
     "output_type": "display_data"
    }
   ],
   "source": [
    "def final_output(calc, lookup): \n",
    "    # Returns a Dataframe with Schema: Zone, Borough, weighted_profit\n",
    "    wp = calc.withColumnRenamed(\"PULocationID\", \"LocationID\")\n",
    "    \n",
    "    lookup = lookup.select(\"LocationID\", \"Zone\", \"Borough\")\n",
    "    \n",
    "    final = lookup.join(wp, \"LocationID\")\\\n",
    "                    .drop(\"LocationID\")\\\n",
    "                    .orderBy(\"weighted_profit\", ascending=False)\\\n",
    "                    .limit(20)\n",
    "    return final"
   ]
  },
  {
   "cell_type": "markdown",
   "metadata": {},
   "source": [
    "<div class=\"alert alert-block alert-info\">\n",
    "    Test your code on the small dataset first, as the large dataset will take a significantly longer time to run\n",
    "</div>\n",
    "\n",
    "<div class=\"alert alert-block alert-danger\">\n",
    "    WARNING: Do <strong>NOT</strong> use the same bucket url for multiple runs of the `main()` function, as this will cause errors. Make sure to change the name of your output location every time. (ie: s3://cse6242-gburdell3/output-small2)\n",
    "</div>\n",
    "\n",
    "Update the below cell with the address to your bucket, then run the below cell to run your code to store the results in S3.\n",
    "\n",
    "When you have confirmed the results of the small dataset, run it again using the large dataset. Your output file will appear ina folder in your s3 bucket called YOUROUTPUT.csv as a csv file with a name something like part-0000-4d992f7a-0ad3-48f8-8c72-0022984e4b50-c000.csv. Download this file and rename it to q3_output.csv for submission. Do not make any other changes to the file. "
   ]
  },
  {
   "cell_type": "code",
   "execution_count": 24,
   "metadata": {},
   "outputs": [
    {
     "data": {
      "application/vnd.jupyter.widget-view+json": {
       "model_id": "0a1926b7ac754e758f302bda02b6f713",
       "version_major": 2,
       "version_minor": 0
      },
      "text/plain": [
       "VBox()"
      ]
     },
     "metadata": {},
     "output_type": "display_data"
    },
    {
     "data": {
      "application/vnd.jupyter.widget-view+json": {
       "model_id": "",
       "version_major": 2,
       "version_minor": 0
      },
      "text/plain": [
       "FloatProgress(value=0.0, bar_style='info', description='Progress:', layout=Layout(height='25px', width='50%'),…"
      ]
     },
     "metadata": {},
     "output_type": "display_data"
    },
    {
     "name": "stdout",
     "output_type": "stream",
     "text": [
      "tliao32\n",
      "Trip Count:  187203269\n",
      "+--------------------+-------------+------------------+\n",
      "|                Zone|      Borough|   weighted_profit|\n",
      "+--------------------+-------------+------------------+\n",
      "|        Baisley Park|       Queens|29.360455469016753|\n",
      "|Flushing Meadows-...|       Queens|27.304845315981304|\n",
      "|       South Jamaica|       Queens| 26.29491594969107|\n",
      "|     Randalls Island|    Manhattan| 24.15098963040328|\n",
      "|        Astoria Park|       Queens|21.706416780949542|\n",
      "|Briarwood/Jamaica...|       Queens| 19.94506438392189|\n",
      "|Springfield Garde...|       Queens| 19.46830915083332|\n",
      "|             Jamaica|       Queens|19.283942770328924|\n",
      "|              Corona|       Queens|18.228768986602894|\n",
      "|   LaGuardia Airport|       Queens| 18.18133878190375|\n",
      "|         Jamaica Bay|       Queens|17.100529347339744|\n",
      "|             Maspeth|       Queens|  17.0054503976978|\n",
      "|Eltingville/Annad...|Staten Island|16.837764706255662|\n",
      "|         JFK Airport|       Queens|16.777725162957648|\n",
      "|        Battery Park|    Manhattan|12.849780119004924|\n",
      "| Morningside Heights|    Manhattan|12.453697923929766|\n",
      "|   Battery Park City|    Manhattan|12.448848287726346|\n",
      "|Greenwich Village...|    Manhattan|12.446949780963548|\n",
      "|       Rikers Island|        Bronx|12.306299886703492|\n",
      "|  World Trade Center|    Manhattan| 12.29541178779986|\n",
      "+--------------------+-------------+------------------+"
     ]
    }
   ],
   "source": [
    "bucket = 's3://cse6242-tliao32/output-large2'\n",
    "# main('small',bucket)\n",
    "main('large', bucket)"
   ]
  },
  {
   "cell_type": "markdown",
   "metadata": {},
   "source": [
    "#### Testing\n",
    "\n",
    "<div class=\"alert alert-block alert-info\">\n",
    "    You may use the below cell for any additional testing you need to do, however any code implemented below will not be run or used when grading\n",
    "</div>"
   ]
  },
  {
   "cell_type": "code",
   "execution_count": 10,
   "metadata": {},
   "outputs": [
    {
     "data": {
      "application/vnd.jupyter.widget-view+json": {
       "model_id": "62c6f918954f43b9b23a7a832b883e7f",
       "version_major": 2,
       "version_minor": 0
      },
      "text/plain": [
       "VBox()"
      ]
     },
     "metadata": {},
     "output_type": "display_data"
    },
    {
     "data": {
      "application/vnd.jupyter.widget-view+json": {
       "model_id": "",
       "version_major": 2,
       "version_minor": 0
      },
      "text/plain": [
       "FloatProgress(value=0.0, bar_style='info', description='Progress:', layout=Layout(height='25px', width='50%'),…"
      ]
     },
     "metadata": {},
     "output_type": "display_data"
    }
   ],
   "source": [
    "def main_test(bucket):\n",
    "    # Runs your functions implemented above.\n",
    "    \n",
    "    print(user())\n",
    "    trips, lookup = load_data(size=\"small\")\n",
    "    trips = long_trips(trips)\n",
    "    trips.show()\n",
    "    mtrips = manhattan_trips(trips, lookup)\n",
    "    mtrips.show()\n",
    "    wp = weighted_profit(trips, mtrips)\n",
    "    wp.show()\n",
    "    final = final_output(wp,lookup)\n",
    "    \n",
    "    # Outputs the results for you to visually see\n",
    "    final.show()\n",
    "    \n",
    "    # Writes out as a CSV to your bucket.\n",
    "    #final.write.csv(bucket)"
   ]
  },
  {
   "cell_type": "code",
   "execution_count": 11,
   "metadata": {},
   "outputs": [
    {
     "data": {
      "application/vnd.jupyter.widget-view+json": {
       "model_id": "32bfb000139e4158afd15d807ae82568",
       "version_major": 2,
       "version_minor": 0
      },
      "text/plain": [
       "VBox()"
      ]
     },
     "metadata": {},
     "output_type": "display_data"
    },
    {
     "data": {
      "application/vnd.jupyter.widget-view+json": {
       "model_id": "",
       "version_major": 2,
       "version_minor": 0
      },
      "text/plain": [
       "FloatProgress(value=0.0, bar_style='info', description='Progress:', layout=Layout(height='25px', width='50%'),…"
      ]
     },
     "metadata": {},
     "output_type": "display_data"
    },
    {
     "name": "stdout",
     "output_type": "stream",
     "text": [
      "tliao32\n",
      "Trip Count:  7667792\n",
      "+--------+--------------------+---------------------+---------------+-------------+----------+------------------+------------+------------+------------+-----------+-----+-------+----------+------------+---------------------+------------+--------------------+\n",
      "|VendorID|tpep_pickup_datetime|tpep_dropoff_datetime|passenger_count|trip_distance|RatecodeID|store_and_fwd_flag|PULocationID|DOLocationID|payment_type|fare_amount|extra|mta_tax|tip_amount|tolls_amount|improvement_surcharge|total_amount|congestion_surcharge|\n",
      "+--------+--------------------+---------------------+---------------+-------------+----------+------------------+------------+------------+------------+-----------+-----+-------+----------+------------+---------------------+------------+--------------------+\n",
      "|       1| 2019-01-01 00:59:47|  2019-01-01 01:18:59|              1|          2.6|         1|                 N|         239|         246|           1|       14.0|  0.5|    0.5|       1.0|         0.0|                  0.3|        16.3|                null|\n",
      "|       1| 2019-01-01 00:32:01|  2019-01-01 00:45:39|              1|          3.7|         1|                 N|         229|           7|           1|       13.5|  0.5|    0.5|       3.7|         0.0|                  0.3|        18.5|                null|\n",
      "|       1| 2019-01-01 00:57:32|  2019-01-01 01:09:32|              2|          2.1|         1|                 N|         141|         234|           1|       10.0|  0.5|    0.5|       1.7|         0.0|                  0.3|        13.0|                null|\n",
      "|       1| 2019-01-01 00:24:04|  2019-01-01 00:47:06|              2|          2.8|         1|                 N|         246|         162|           1|       15.0|  0.5|    0.5|      3.25|         0.0|                  0.3|       19.55|                null|\n",
      "|       1| 2019-01-01 00:45:21|  2019-01-01 01:31:05|              1|          8.7|         1|                 N|         163|          25|           1|       34.5|  0.5|    0.5|      7.15|         0.0|                  0.3|       42.95|                null|\n",
      "|       1| 2019-01-01 00:43:19|  2019-01-01 01:07:42|              1|          6.3|         1|                 N|         224|          25|           1|       21.5|  0.5|    0.5|       5.7|         0.0|                  0.3|        28.5|                null|\n",
      "|       1| 2019-01-01 00:58:24|  2019-01-01 01:15:18|              1|          2.7|         1|                 N|         141|         234|           1|       13.0|  0.5|    0.5|       1.0|         0.0|                  0.3|        15.3|                null|\n",
      "|       1| 2019-01-01 00:19:55|  2019-01-01 00:57:56|              1|         12.3|         1|                 N|         138|          50|           1|       38.0|  0.5|    0.5|       4.0|        5.76|                  0.3|       49.06|                null|\n",
      "|       1| 2019-01-01 00:50:06|  2019-01-01 01:11:36|              1|          4.6|         1|                 N|         107|         181|           2|       19.0|  0.5|    0.5|       0.0|         0.0|                  0.3|        20.3|                null|\n",
      "|       1| 2019-01-01 00:43:19|  2019-01-01 00:58:09|              2|          3.0|         1|                 N|         263|         107|           1|       12.0|  0.5|    0.5|      2.65|         0.0|                  0.3|       15.95|                null|\n",
      "|       2| 2019-01-01 00:52:37|  2019-01-01 01:03:42|              1|          2.1|         1|                 N|         151|         142|           2|        9.5|  0.5|    0.5|       0.0|         0.0|                  0.3|        10.8|                null|\n",
      "|       2| 2019-01-01 00:11:45|  2019-01-01 00:40:51|              1|         6.57|         1|                 N|         231|         238|           1|       24.0|  0.5|    0.5|      5.06|         0.0|                  0.3|       30.36|                null|\n",
      "|       2| 2019-01-01 00:08:20|  2019-01-01 00:41:51|              2|        19.13|         2|                 N|         132|         238|           1|       52.0|  0.0|    0.5|     11.71|        5.76|                  0.3|       70.27|                null|\n",
      "|       1| 2019-01-01 00:17:49|  2019-01-01 00:30:37|              1|          4.2|         1|                 N|         264|         229|           1|       15.0|  0.5|    0.5|      3.25|         0.0|                  0.3|       19.55|                null|\n",
      "|       1| 2019-01-01 00:41:07|  2019-01-01 01:51:53|              1|         11.2|         1|                 N|         141|          83|           2|       46.5|  0.5|    0.5|       0.0|         0.0|                  0.3|        47.8|                null|\n",
      "|       1| 2019-01-01 00:27:26|  2019-01-01 00:39:53|              2|          3.1|         1|                 N|         142|         263|           1|       11.5|  0.5|    0.5|       1.5|         0.0|                  0.3|        14.3|                null|\n",
      "|       2| 2019-01-01 00:55:26|  2019-01-01 01:30:46|              3|         5.23|         1|                 N|          90|         181|           1|       24.5|  0.5|    0.5|       4.0|         0.0|                  0.3|        29.8|                null|\n",
      "|       1| 2019-01-01 00:57:32|  2019-01-01 01:18:34|              1|          8.0|         1|                 N|         140|         243|           2|       24.5|  0.5|    0.5|       0.0|         0.0|                  0.3|        25.8|                null|\n",
      "|       2| 2019-01-01 00:26:14|  2019-01-01 00:40:31|              1|          4.1|         1|                 N|         137|          75|           1|       14.0|  0.5|    0.5|       0.0|         0.0|                  0.3|        15.3|                null|\n",
      "|       2| 2019-01-01 00:44:26|  2019-01-01 00:55:29|              1|         2.69|         1|                 N|         236|          41|           2|       10.5|  0.5|    0.5|       0.0|         0.0|                  0.3|        11.8|                null|\n",
      "+--------+--------------------+---------------------+---------------+-------------+----------+------------------+------------+------------+------------+-----------+-----+-------+----------+------------+---------------------+------------+--------------------+\n",
      "only showing top 20 rows\n",
      "\n",
      "+------------+------+\n",
      "|DOLocationID|pcount|\n",
      "+------------+------+\n",
      "|         236|147086|\n",
      "|         161|117642|\n",
      "|         230|112155|\n",
      "|         239|104164|\n",
      "|         162|101209|\n",
      "|         238|100189|\n",
      "|          48| 98784|\n",
      "|         170| 96109|\n",
      "|         142| 95053|\n",
      "|         231| 94621|\n",
      "|         263| 94548|\n",
      "|          79| 94421|\n",
      "|         237| 90335|\n",
      "|         141| 90061|\n",
      "|         140| 84212|\n",
      "|          68| 79559|\n",
      "|         234| 75786|\n",
      "|         186| 73863|\n",
      "|         163| 73145|\n",
      "|          13| 70693|\n",
      "+------------+------+\n",
      "\n",
      "+------------+------------------+\n",
      "|PULocationID|   weighted_profit|\n",
      "+------------+------------------+\n",
      "|           6|31.784444444444446|\n",
      "|          99|29.342499999999998|\n",
      "|         187|24.357777777777777|\n",
      "|          93| 24.33013773166695|\n",
      "|          10| 23.62469433349846|\n",
      "|         194| 23.12457751514923|\n",
      "|         215| 22.17411493943224|\n",
      "|         156|21.786556927297667|\n",
      "|         206|21.491893491124262|\n",
      "|           5|          20.29625|\n",
      "|           8|19.965360000000004|\n",
      "|         138|17.923153949604917|\n",
      "|         171|17.585450424382717|\n",
      "|         132|16.958978201177356|\n",
      "|         130|14.879835188762476|\n",
      "|         105|          14.79625|\n",
      "|          58| 14.61319526627219|\n",
      "|         219|14.337175219423653|\n",
      "|         157|13.940437160690953|\n",
      "|          28|13.327861288088645|\n",
      "+------------+------------------+\n",
      "only showing top 20 rows\n",
      "\n",
      "+--------------------+-------------+------------------+\n",
      "|                Zone|      Borough|   weighted_profit|\n",
      "+--------------------+-------------+------------------+\n",
      "|Arrochar/Fort Wad...|Staten Island|31.784444444444446|\n",
      "|     Freshkills Park|Staten Island|29.342499999999998|\n",
      "|       Port Richmond|Staten Island|24.357777777777777|\n",
      "|Flushing Meadows-...|       Queens| 24.33013773166695|\n",
      "|        Baisley Park|       Queens|23.624694333498454|\n",
      "|     Randalls Island|    Manhattan| 23.12457751514923|\n",
      "|       South Jamaica|       Queens|22.174114939432236|\n",
      "|     Mariners Harbor|Staten Island| 21.78655692729767|\n",
      "|Saint George/New ...|Staten Island| 21.49189349112426|\n",
      "|       Arden Heights|Staten Island|          20.29625|\n",
      "|        Astoria Park|       Queens|19.965360000000004|\n",
      "|   LaGuardia Airport|       Queens|17.923153949604917|\n",
      "|  Murray Hill-Queens|       Queens|17.585450424382717|\n",
      "|         JFK Airport|       Queens|16.958978201177356|\n",
      "|             Jamaica|       Queens|14.879835188762474|\n",
      "|Governor's Island...|    Manhattan|          14.79625|\n",
      "|        Country Club|        Bronx| 14.61319526627219|\n",
      "|Springfield Garde...|       Queens|14.337175219423653|\n",
      "|             Maspeth|       Queens|13.940437160690953|\n",
      "|Briarwood/Jamaica...|       Queens|13.327861288088643|\n",
      "+--------------------+-------------+------------------+"
     ]
    }
   ],
   "source": [
    "main_test(1)"
   ]
  },
  {
   "cell_type": "code",
   "execution_count": null,
   "metadata": {},
   "outputs": [],
   "source": []
  }
 ],
 "metadata": {
  "kernelspec": {
   "display_name": "PySpark",
   "language": "",
   "name": "pysparkkernel"
  },
  "language_info": {
   "codemirror_mode": {
    "name": "python",
    "version": 2
   },
   "mimetype": "text/x-python",
   "name": "pyspark",
   "pygments_lexer": "python2"
  }
 },
 "nbformat": 4,
 "nbformat_minor": 4
}
